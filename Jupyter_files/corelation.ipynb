{
 "cells": [
  {
   "cell_type": "code",
   "execution_count": 1,
   "metadata": {},
   "outputs": [],
   "source": [
    "import pandas as pandas_lib\n",
    "import numpy as numpy_lib\n",
    "import seaborn as seaboorn_lib"
   ]
  },
  {
   "cell_type": "code",
   "execution_count": 16,
   "metadata": {},
   "outputs": [],
   "source": [
    "data = pandas_lib.read_csv(r'D:\\Coding\\Life\\Data Files/clean_dataa.csv')"
   ]
  },
  {
   "cell_type": "markdown",
   "metadata": {},
   "source": [
    "CREAT PIVOT TABLE"
   ]
  },
  {
   "cell_type": "code",
   "execution_count": 22,
   "metadata": {},
   "outputs": [
    {
     "name": "stderr",
     "output_type": "stream",
     "text": [
      "c:\\Users\\Lokesh\\AppData\\Local\\Programs\\Python\\Python310\\lib\\site-packages\\seaborn\\_decorators.py:36: FutureWarning: Pass the following variable as a keyword arg: x. From version 0.12, the only valid positional argument will be `data`, and passing other arguments without an explicit keyword will result in an error or misinterpretation.\n",
      "  warnings.warn(\n"
     ]
    },
    {
     "data": {
      "text/plain": [
       "<AxesSubplot:xlabel='TotalRatingCount'>"
      ]
     },
     "execution_count": 22,
     "metadata": {},
     "output_type": "execute_result"
    },
    {
     "data": {
      "image/png": "[encoded data removed]",
      "text/plain": [
       "<Figure size 432x288 with 1 Axes>"
      ]
     },
     "metadata": {
      "needs_background": "light"
     },
     "output_type": "display_data"
    }
   ],
   "source": [
    "# Decide threshold value\n",
    "# Find quantile values\n",
    "seaboorn_lib.boxplot(data['TotalRatingCount'])"
   ]
  },
  {
   "cell_type": "code",
   "execution_count": 49,
   "metadata": {},
   "outputs": [
    {
     "data": {
      "text/plain": [
       "42.0"
      ]
     },
     "execution_count": 49,
     "metadata": {},
     "output_type": "execute_result"
    }
   ],
   "source": [
    "data['TotalRatingCount'].quantile()"
   ]
  },
  {
   "cell_type": "code",
   "execution_count": 48,
   "metadata": {},
   "outputs": [
    {
     "name": "stdout",
     "output_type": "stream",
     "text": [
      "1.0\n",
      "5.0\n",
      "11.0\n",
      "20.0\n",
      "29.0\n",
      "42.0\n",
      "61.0\n",
      "80.0\n",
      "112.0\n",
      "164.0\n",
      "350.0\n"
     ]
    }
   ],
   "source": [
    "for i in range(0,101,10):\n",
    "    print(data['TotalRatingCount'].quantile(i/100))\n",
    "    "
   ]
  },
  {
   "cell_type": "code",
   "execution_count": 52,
   "metadata": {},
   "outputs": [],
   "source": [
    "Threshold_data = data[data['TotalRatingCount']>61]"
   ]
  },
  {
   "cell_type": "code",
   "execution_count": null,
   "metadata": {},
   "outputs": [],
   "source": [
    "# threshold = 61\n",
    "# data.query('TotalRatingCount >=@threshold')"
   ]
  },
  {
   "cell_type": "code",
   "execution_count": 55,
   "metadata": {},
   "outputs": [],
   "source": [
    "movie_mat = Threshold_data.pivot_table(index='userId',columns='title',values='rating')"
   ]
  },
  {
   "cell_type": "code",
   "execution_count": 57,
   "metadata": {},
   "outputs": [
    {
     "data": {
      "text/plain": [
       "userId\n",
       "1      NaN\n",
       "2      2.0\n",
       "3      5.0\n",
       "4      NaN\n",
       "5      NaN\n",
       "      ... \n",
       "698    NaN\n",
       "699    4.0\n",
       "700    NaN\n",
       "701    NaN\n",
       "702    NaN\n",
       "Name: Airplane! (1980), Length: 697, dtype: float64"
      ]
     },
     "execution_count": 57,
     "metadata": {},
     "output_type": "execute_result"
    }
   ],
   "source": [
    "movie_mat['Airplane! (1980)']"
   ]
  },
  {
   "cell_type": "markdown",
   "metadata": {},
   "source": [
    "FIND CORELATION VALUES..\n",
    "AUTOMATE OUR RECOMMENDATIONS..\n"
   ]
  },
  {
   "cell_type": "code",
   "execution_count": 59,
   "metadata": {},
   "outputs": [],
   "source": [
    "similarity = movie_mat.corrwith(movie_mat['Airplane! (1980)'])"
   ]
  },
  {
   "cell_type": "code",
   "execution_count": 64,
   "metadata": {},
   "outputs": [],
   "source": [
    "co_reln = similarity.sort_values(ascending=False).reset_index().rename(columns={0:'co-reln values'})"
   ]
  },
  {
   "cell_type": "code",
   "execution_count": 65,
   "metadata": {},
   "outputs": [
    {
     "data": {
      "text/html": [
       "<div>\n",
       "<style scoped>\n",
       "    .dataframe tbody tr th:only-of-type {\n",
       "        vertical-align: middle;\n",
       "    }\n",
       "\n",
       "    .dataframe tbody tr th {\n",
       "        vertical-align: top;\n",
       "    }\n",
       "\n",
       "    .dataframe thead th {\n",
       "        text-align: right;\n",
       "    }\n",
       "</style>\n",
       "<table border=\"1\" class=\"dataframe\">\n",
       "  <thead>\n",
       "    <tr style=\"text-align: right;\">\n",
       "      <th></th>\n",
       "      <th>title</th>\n",
       "      <th>co-reln values</th>\n",
       "    </tr>\n",
       "  </thead>\n",
       "  <tbody>\n",
       "    <tr>\n",
       "      <th>0</th>\n",
       "      <td>Airplane! (1980)</td>\n",
       "      <td>1.000000</td>\n",
       "    </tr>\n",
       "    <tr>\n",
       "      <th>1</th>\n",
       "      <td>Casper (1995)</td>\n",
       "      <td>0.680396</td>\n",
       "    </tr>\n",
       "    <tr>\n",
       "      <th>2</th>\n",
       "      <td>Galaxy Quest (1999)</td>\n",
       "      <td>0.661684</td>\n",
       "    </tr>\n",
       "    <tr>\n",
       "      <th>3</th>\n",
       "      <td>Bridge on the River Kwai, The (1957)</td>\n",
       "      <td>0.629462</td>\n",
       "    </tr>\n",
       "    <tr>\n",
       "      <th>4</th>\n",
       "      <td>Santa Clause, The (1994)</td>\n",
       "      <td>0.603553</td>\n",
       "    </tr>\n",
       "    <tr>\n",
       "      <th>...</th>\n",
       "      <td>...</td>\n",
       "      <td>...</td>\n",
       "    </tr>\n",
       "    <tr>\n",
       "      <th>352</th>\n",
       "      <td>Crying Game, The (1992)</td>\n",
       "      <td>-0.301612</td>\n",
       "    </tr>\n",
       "    <tr>\n",
       "      <th>353</th>\n",
       "      <td>Desperado (1995)</td>\n",
       "      <td>-0.330267</td>\n",
       "    </tr>\n",
       "    <tr>\n",
       "      <th>354</th>\n",
       "      <td>Amelie (Fabuleux destin d'Amélie Poulain, Le) ...</td>\n",
       "      <td>-0.349704</td>\n",
       "    </tr>\n",
       "    <tr>\n",
       "      <th>355</th>\n",
       "      <td>Mr. Holland's Opus (1995)</td>\n",
       "      <td>-0.357667</td>\n",
       "    </tr>\n",
       "    <tr>\n",
       "      <th>356</th>\n",
       "      <td>As Good as It Gets (1997)</td>\n",
       "      <td>-0.402779</td>\n",
       "    </tr>\n",
       "  </tbody>\n",
       "</table>\n",
       "<p>357 rows × 2 columns</p>\n",
       "</div>"
      ],
      "text/plain": [
       "                                                 title  co-reln values\n",
       "0                                     Airplane! (1980)        1.000000\n",
       "1                                        Casper (1995)        0.680396\n",
       "2                                  Galaxy Quest (1999)        0.661684\n",
       "3                 Bridge on the River Kwai, The (1957)        0.629462\n",
       "4                             Santa Clause, The (1994)        0.603553\n",
       "..                                                 ...             ...\n",
       "352                            Crying Game, The (1992)       -0.301612\n",
       "353                                   Desperado (1995)       -0.330267\n",
       "354  Amelie (Fabuleux destin d'Amélie Poulain, Le) ...       -0.349704\n",
       "355                          Mr. Holland's Opus (1995)       -0.357667\n",
       "356                          As Good as It Gets (1997)       -0.402779\n",
       "\n",
       "[357 rows x 2 columns]"
      ]
     },
     "execution_count": 65,
     "metadata": {},
     "output_type": "execute_result"
    }
   ],
   "source": [
    "co_reln"
   ]
  },
  {
   "cell_type": "code",
   "execution_count": 71,
   "metadata": {},
   "outputs": [],
   "source": [
    "# We have to give key value pair in aggregate function\n",
    "rat = Threshold_data.groupby('title').agg({'title':'count','rating':'mean'}).rename(columns={'title':'total_ratings','rating':'avg_rating'}).reset_index()"
   ]
  },
  {
   "cell_type": "code",
   "execution_count": 73,
   "metadata": {},
   "outputs": [],
   "source": [
    "final_co_reln = co_reln.merge(rat,on='title')"
   ]
  },
  {
   "cell_type": "code",
   "execution_count": 74,
   "metadata": {},
   "outputs": [
    {
     "data": {
      "text/html": [
       "<div>\n",
       "<style scoped>\n",
       "    .dataframe tbody tr th:only-of-type {\n",
       "        vertical-align: middle;\n",
       "    }\n",
       "\n",
       "    .dataframe tbody tr th {\n",
       "        vertical-align: top;\n",
       "    }\n",
       "\n",
       "    .dataframe thead th {\n",
       "        text-align: right;\n",
       "    }\n",
       "</style>\n",
       "<table border=\"1\" class=\"dataframe\">\n",
       "  <thead>\n",
       "    <tr style=\"text-align: right;\">\n",
       "      <th></th>\n",
       "      <th>title</th>\n",
       "      <th>co-reln values</th>\n",
       "      <th>total_ratings</th>\n",
       "      <th>avg_rating</th>\n",
       "    </tr>\n",
       "  </thead>\n",
       "  <tbody>\n",
       "    <tr>\n",
       "      <th>1</th>\n",
       "      <td>Casper (1995)</td>\n",
       "      <td>0.680396</td>\n",
       "      <td>71</td>\n",
       "      <td>2.894366</td>\n",
       "    </tr>\n",
       "    <tr>\n",
       "      <th>2</th>\n",
       "      <td>Galaxy Quest (1999)</td>\n",
       "      <td>0.661684</td>\n",
       "      <td>75</td>\n",
       "      <td>3.560000</td>\n",
       "    </tr>\n",
       "    <tr>\n",
       "      <th>3</th>\n",
       "      <td>Bridge on the River Kwai, The (1957)</td>\n",
       "      <td>0.629462</td>\n",
       "      <td>65</td>\n",
       "      <td>4.030769</td>\n",
       "    </tr>\n",
       "    <tr>\n",
       "      <th>4</th>\n",
       "      <td>Santa Clause, The (1994)</td>\n",
       "      <td>0.603553</td>\n",
       "      <td>92</td>\n",
       "      <td>3.358696</td>\n",
       "    </tr>\n",
       "    <tr>\n",
       "      <th>5</th>\n",
       "      <td>Unforgiven (1992)</td>\n",
       "      <td>0.602800</td>\n",
       "      <td>79</td>\n",
       "      <td>3.791139</td>\n",
       "    </tr>\n",
       "    <tr>\n",
       "      <th>6</th>\n",
       "      <td>Tomorrow Never Dies (1997)</td>\n",
       "      <td>0.602446</td>\n",
       "      <td>71</td>\n",
       "      <td>3.267606</td>\n",
       "    </tr>\n",
       "    <tr>\n",
       "      <th>7</th>\n",
       "      <td>Monty Python and the Holy Grail (1975)</td>\n",
       "      <td>0.601236</td>\n",
       "      <td>166</td>\n",
       "      <td>4.186747</td>\n",
       "    </tr>\n",
       "    <tr>\n",
       "      <th>8</th>\n",
       "      <td>Terminator, The (1984)</td>\n",
       "      <td>0.580656</td>\n",
       "      <td>160</td>\n",
       "      <td>3.912500</td>\n",
       "    </tr>\n",
       "    <tr>\n",
       "      <th>9</th>\n",
       "      <td>Coneheads (1993)</td>\n",
       "      <td>0.556090</td>\n",
       "      <td>85</td>\n",
       "      <td>2.882353</td>\n",
       "    </tr>\n",
       "    <tr>\n",
       "      <th>10</th>\n",
       "      <td>Chicken Run (2000)</td>\n",
       "      <td>0.544424</td>\n",
       "      <td>76</td>\n",
       "      <td>3.322368</td>\n",
       "    </tr>\n",
       "  </tbody>\n",
       "</table>\n",
       "</div>"
      ],
      "text/plain": [
       "                                     title  co-reln values  total_ratings  \\\n",
       "1                            Casper (1995)        0.680396             71   \n",
       "2                      Galaxy Quest (1999)        0.661684             75   \n",
       "3     Bridge on the River Kwai, The (1957)        0.629462             65   \n",
       "4                 Santa Clause, The (1994)        0.603553             92   \n",
       "5                        Unforgiven (1992)        0.602800             79   \n",
       "6               Tomorrow Never Dies (1997)        0.602446             71   \n",
       "7   Monty Python and the Holy Grail (1975)        0.601236            166   \n",
       "8                   Terminator, The (1984)        0.580656            160   \n",
       "9                         Coneheads (1993)        0.556090             85   \n",
       "10                      Chicken Run (2000)        0.544424             76   \n",
       "\n",
       "    avg_rating  \n",
       "1     2.894366  \n",
       "2     3.560000  \n",
       "3     4.030769  \n",
       "4     3.358696  \n",
       "5     3.791139  \n",
       "6     3.267606  \n",
       "7     4.186747  \n",
       "8     3.912500  \n",
       "9     2.882353  \n",
       "10    3.322368  "
      ]
     },
     "execution_count": 74,
     "metadata": {},
     "output_type": "execute_result"
    }
   ],
   "source": [
    "final_co_reln.sort_values('co-reln values',ascending=False)[1:11]"
   ]
  },
  {
   "cell_type": "code",
   "execution_count": 87,
   "metadata": {},
   "outputs": [],
   "source": [
    "# Function for recommendation\n",
    "def recommend_movies(movie):\n",
    "    similarit = movie_mat.corrwith(movie_mat[movie])\n",
    "    return similarit.sort_values(ascending=False)\n",
    "    "
   ]
  },
  {
   "cell_type": "code",
   "execution_count": 88,
   "metadata": {},
   "outputs": [
    {
     "data": {
      "text/plain": [
       "title\n",
       "Harry Potter and the Sorcerer's Stone (a.k.a. Harry Potter and the Philosopher's Stone) (2001)    0.880848\n",
       "Pleasantville (1998)                                                                              0.866816\n",
       "Notting Hill (1999)                                                                               0.802955\n",
       "Talented Mr. Ripley, The (1999)                                                                   0.799671\n",
       "City of God (Cidade de Deus) (2002)                                                               0.798554\n",
       "Little Mermaid, The (1989)                                                                        0.794992\n",
       "Naked Gun 33 1/3: The Final Insult (1994)                                                         0.781180\n",
       "Last Action Hero (1993)                                                                           0.776395\n",
       "Big (1988)                                                                                        0.770552\n",
       "Beetlejuice (1988)                                                                                0.764190\n",
       "dtype: float64"
      ]
     },
     "execution_count": 88,
     "metadata": {},
     "output_type": "execute_result"
    }
   ],
   "source": [
    "recommend_movies('Casper (1995)')[1:11]"
   ]
  }
 ],
 "metadata": {
  "interpreter": {
   "hash": "17d0cd2c5f67fedce6f29cb96b1e4773c6bc19884525ff9042ac52e2ca933ff7"
  },
  "kernelspec": {
   "display_name": "Python 3.10.1 64-bit",
   "language": "python",
   "name": "python3"
  },
  "language_info": {
   "codemirror_mode": {
    "name": "ipython",
    "version": 3
   },
   "file_extension": ".py",
   "mimetype": "text/x-python",
   "name": "python",
   "nbconvert_exporter": "python",
   "pygments_lexer": "ipython3",
   "version": "3.10.1"
  },
  "orig_nbformat": 4
 },
 "nbformat": 4,
 "nbformat_minor": 2
}
