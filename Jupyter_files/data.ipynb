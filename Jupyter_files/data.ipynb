{
 "cells": [
  {
   "cell_type": "code",
   "execution_count": 28,
   "metadata": {},
   "outputs": [],
   "source": [
    "import pandas as pn\n",
    "import numpy as np\n",
    "import matplotlib.pyplot as mpb\n",
    "\n",
    "# THIS FILE IS ALL ABOUT GETTING OUR MAIN DATA SET"
   ]
  },
  {
   "cell_type": "markdown",
   "metadata": {},
   "source": [
    "Read both the files and stored data to variables"
   ]
  },
  {
   "cell_type": "code",
   "execution_count": 26,
   "metadata": {},
   "outputs": [],
   "source": [
    "crds = pn.read_csv(r'D:/Coding/Life/Data Files/tmdb_5000_credits.csv')\n",
    "mvs = pn.read_csv(r'D:\\Coding\\Life\\Data Files/tmdb_5000_movies.csv')"
   ]
  },
  {
   "cell_type": "code",
   "execution_count": 27,
   "metadata": {},
   "outputs": [
    {
     "data": {
      "text/plain": [
       "(4803, 18)"
      ]
     },
     "execution_count": 27,
     "metadata": {},
     "output_type": "execute_result"
    }
   ],
   "source": [
    "# Here we have change column movie_id to id\n",
    "changed_credit_data = crds.rename(columns = {'movie_id':'id'})\n",
    "\n",
    "# merged movies and credits\n",
    "movies_merged_data = mvs.merge(changed_credit_data,on='id')\n",
    "\n",
    "#  we removed all unnecessary columns\n",
    "movies_cleaned_data = movies_merged_data.drop(columns=['title_x','title_y','homepage','production_countries','status'])\n",
    "\n",
    "movies_cleaned_data.to_csv(r'D:\\Coding\\Life\\Data Files/clean_data.csv')\n",
    "movies_cleaned_data.shape"
   ]
  }
 ],
 "metadata": {
  "interpreter": {
   "hash": "17d0cd2c5f67fedce6f29cb96b1e4773c6bc19884525ff9042ac52e2ca933ff7"
  },
  "kernelspec": {
   "display_name": "Python 3.10.1 64-bit",
   "language": "python",
   "name": "python3"
  },
  "language_info": {
   "codemirror_mode": {
    "name": "ipython",
    "version": 3
   },
   "file_extension": ".py",
   "mimetype": "text/x-python",
   "name": "python",
   "nbconvert_exporter": "python",
   "pygments_lexer": "ipython3",
   "version": "3.10.1"
  },
  "orig_nbformat": 4
 },
 "nbformat": 4,
 "nbformat_minor": 2
}
